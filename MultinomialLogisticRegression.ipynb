{
 "cells": [
  {
   "cell_type": "markdown",
   "metadata": {
    "id": "VrTvzSyuepmO"
   },
   "source": [
    "# Sentiment Analysis Using Multinomial Logistic Regression"
   ]
  },
  {
   "cell_type": "markdown",
   "metadata": {
    "id": "q03g2NF58ZV1"
   },
   "source": [
    "## Task 1: Import Libraries"
   ]
  },
  {
   "cell_type": "code",
   "execution_count": 3,
   "metadata": {
    "executionInfo": {
     "elapsed": 3048,
     "status": "ok",
     "timestamp": 1684441475039,
     "user": {
      "displayName": "Mudasir Yasin",
      "userId": "02181408715486485594"
     },
     "user_tz": -300
    },
    "id": "yI1xmb47mo-C"
   },
   "outputs": [],
   "source": [
    "import string\n",
    "import numpy as np \n",
    "import pandas as pd\n",
    "import tqdm\n",
    "import matplotlib.pyplot as plt\n",
    "from sklearn.model_selection import train_test_split\n",
    "from sklearn.feature_extraction.text import CountVectorizer\n",
    "from sklearn.metrics import confusion_matrix, ConfusionMatrixDisplay, classification_report"
   ]
  },
  {
   "cell_type": "markdown",
   "metadata": {
    "id": "biztdTex5VuQ"
   },
   "source": [
    "## Task 2: Load the Dataset"
   ]
  },
  {
   "cell_type": "code",
   "execution_count": 4,
   "metadata": {},
   "outputs": [
    {
     "data": {
      "text/html": [
       "<div>\n",
       "<style scoped>\n",
       "    .dataframe tbody tr th:only-of-type {\n",
       "        vertical-align: middle;\n",
       "    }\n",
       "\n",
       "    .dataframe tbody tr th {\n",
       "        vertical-align: top;\n",
       "    }\n",
       "\n",
       "    .dataframe thead th {\n",
       "        text-align: right;\n",
       "    }\n",
       "</style>\n",
       "<table border=\"1\" class=\"dataframe\">\n",
       "  <thead>\n",
       "    <tr style=\"text-align: right;\">\n",
       "      <th></th>\n",
       "      <th>sentiment</th>\n",
       "      <th>tweet</th>\n",
       "    </tr>\n",
       "  </thead>\n",
       "  <tbody>\n",
       "    <tr>\n",
       "      <th>0</th>\n",
       "      <td>neutral</td>\n",
       "      <td>Happy Monday tweeples... hope it wasn`t to har...</td>\n",
       "    </tr>\n",
       "    <tr>\n",
       "      <th>1</th>\n",
       "      <td>negative</td>\n",
       "      <td>I can`t believe I thought I had a morning shif...</td>\n",
       "    </tr>\n",
       "    <tr>\n",
       "      <th>2</th>\n",
       "      <td>neutral</td>\n",
       "      <td>So its Superstar Sunday?  is one superstar I k...</td>\n",
       "    </tr>\n",
       "    <tr>\n",
       "      <th>3</th>\n",
       "      <td>positive</td>\n",
       "      <td>yay i hit 50 subscribers on youtube. go me  lol.</td>\n",
       "    </tr>\n",
       "    <tr>\n",
       "      <th>4</th>\n",
       "      <td>neutral</td>\n",
       "      <td>Today = marking *135</td>\n",
       "    </tr>\n",
       "  </tbody>\n",
       "</table>\n",
       "</div>"
      ],
      "text/plain": [
       "  sentiment                                              tweet\n",
       "0   neutral  Happy Monday tweeples... hope it wasn`t to har...\n",
       "1  negative  I can`t believe I thought I had a morning shif...\n",
       "2   neutral  So its Superstar Sunday?  is one superstar I k...\n",
       "3  positive   yay i hit 50 subscribers on youtube. go me  lol.\n",
       "4   neutral                               Today = marking *135"
      ]
     },
     "execution_count": 4,
     "metadata": {},
     "output_type": "execute_result"
    }
   ],
   "source": [
    "df = pd.read_csv(\"/usercode/Tweets.csv\")\n",
    "df.head()"
   ]
  },
  {
   "cell_type": "markdown",
   "metadata": {
    "id": "bY8pthmS5pjN"
   },
   "source": [
    "## Task 3: Remove Punctuation from Tweets"
   ]
  },
  {
   "cell_type": "code",
   "execution_count": 10,
   "metadata": {
    "colab": {
     "base_uri": "https://localhost:8080/"
    },
    "executionInfo": {
     "elapsed": 9,
     "status": "ok",
     "timestamp": 1684441500641,
     "user": {
      "displayName": "Mudasir Yasin",
      "userId": "02181408715486485594"
     },
     "user_tz": -300
    },
    "id": "C_MQnLQ15sHx",
    "outputId": "b81cfccc-f021-4fda-abe0-91712c76add7"
   },
   "outputs": [
    {
     "name": "stdout",
     "output_type": "stream",
     "text": [
      "  sentiment                                              tweet\n",
      "0   neutral  Happy Monday tweeples hope it wasnt to hard to...\n",
      "1  negative  I cant believe I thought I had a morning shift...\n",
      "2   neutral  So its Superstar Sunday  is one superstar I kn...\n",
      "3  positive     yay i hit 50 subscribers on youtube go me  lol\n",
      "4   neutral                                 Today  marking 135\n"
     ]
    }
   ],
   "source": [
    "def remove_punc(s):\n",
    "    s2 = ''\n",
    "    for c in s:\n",
    "        if c not in string.punctuation:\n",
    "            s2 += c\n",
    "    return s2\n",
    "\n",
    "df.iloc[:,1] = df.iloc[:,1].apply(remove_punc)\n",
    "print(df.head())\n",
    "    "
   ]
  },
  {
   "cell_type": "markdown",
   "metadata": {
    "id": "Lq0ccz8N5sTl"
   },
   "source": [
    "## Task 4: Split Tweets into a Bag of Words"
   ]
  },
  {
   "cell_type": "code",
   "execution_count": 11,
   "metadata": {
    "colab": {
     "base_uri": "https://localhost:8080/"
    },
    "executionInfo": {
     "elapsed": 6,
     "status": "ok",
     "timestamp": 1684441500641,
     "user": {
      "displayName": "Mudasir Yasin",
      "userId": "02181408715486485594"
     },
     "user_tz": -300
    },
    "id": "MI_GuC4l54Gn",
    "outputId": "a16d8bcc-e563-4c62-e6e9-8829333dfac0"
   },
   "outputs": [
    {
     "data": {
      "text/html": [
       "<div>\n",
       "<style scoped>\n",
       "    .dataframe tbody tr th:only-of-type {\n",
       "        vertical-align: middle;\n",
       "    }\n",
       "\n",
       "    .dataframe tbody tr th {\n",
       "        vertical-align: top;\n",
       "    }\n",
       "\n",
       "    .dataframe thead th {\n",
       "        text-align: right;\n",
       "    }\n",
       "</style>\n",
       "<table border=\"1\" class=\"dataframe\">\n",
       "  <thead>\n",
       "    <tr style=\"text-align: right;\">\n",
       "      <th></th>\n",
       "      <th>sentiment</th>\n",
       "      <th>tweet</th>\n",
       "    </tr>\n",
       "  </thead>\n",
       "  <tbody>\n",
       "    <tr>\n",
       "      <th>0</th>\n",
       "      <td>neutral</td>\n",
       "      <td>[Happy, Monday, tweeples, hope, it, wasnt, to,...</td>\n",
       "    </tr>\n",
       "    <tr>\n",
       "      <th>1</th>\n",
       "      <td>negative</td>\n",
       "      <td>[I, cant, believe, I, thought, I, had, a, morn...</td>\n",
       "    </tr>\n",
       "    <tr>\n",
       "      <th>2</th>\n",
       "      <td>neutral</td>\n",
       "      <td>[So, its, Superstar, Sunday, is, one, supersta...</td>\n",
       "    </tr>\n",
       "    <tr>\n",
       "      <th>3</th>\n",
       "      <td>positive</td>\n",
       "      <td>[yay, i, hit, 50, subscribers, on, youtube, go...</td>\n",
       "    </tr>\n",
       "    <tr>\n",
       "      <th>4</th>\n",
       "      <td>neutral</td>\n",
       "      <td>[Today, marking, 135]</td>\n",
       "    </tr>\n",
       "  </tbody>\n",
       "</table>\n",
       "</div>"
      ],
      "text/plain": [
       "  sentiment                                              tweet\n",
       "0   neutral  [Happy, Monday, tweeples, hope, it, wasnt, to,...\n",
       "1  negative  [I, cant, believe, I, thought, I, had, a, morn...\n",
       "2   neutral  [So, its, Superstar, Sunday, is, one, supersta...\n",
       "3  positive  [yay, i, hit, 50, subscribers, on, youtube, go...\n",
       "4   neutral                              [Today, marking, 135]"
      ]
     },
     "execution_count": 11,
     "metadata": {},
     "output_type": "execute_result"
    }
   ],
   "source": [
    "df['tweet'] = df['tweet'].apply(lambda x:x.split())\n",
    "df.head()"
   ]
  },
  {
   "cell_type": "markdown",
   "metadata": {
    "id": "jRtUFzHz53na"
   },
   "source": [
    "## Task 5: Create a Vocabulary and Remove Stop Words"
   ]
  },
  {
   "cell_type": "code",
   "execution_count": 14,
   "metadata": {
    "executionInfo": {
     "elapsed": 5,
     "status": "ok",
     "timestamp": 1684441500642,
     "user": {
      "displayName": "Mudasir Yasin",
      "userId": "02181408715486485594"
     },
     "user_tz": -300
    },
    "id": "HIB6iC6xsOWS"
   },
   "outputs": [],
   "source": [
    "vocabulary_dict = {}\n",
    "for row in df['tweet']:\n",
    "    for word in row:\n",
    "        if word.lower() in vocabulary_dict:\n",
    "            vocabulary_dict[word.lower()] += 1\n",
    "        else:\n",
    "            vocabulary_dict[word.lower()] = 1\n",
    "vocabulary_dict = sorted(vocabulary_dict.items(), key = lambda x:x[1], reverse=True)\n",
    "vocabulary_dict = vocabulary_dict[100:]\n",
    "vocabulary_dict = dict(vocabulary_dict)\n",
    "\n",
    "vocabulary_dict = list(vocabulary_dict.keys())"
   ]
  },
  {
   "cell_type": "markdown",
   "metadata": {
    "id": "uZkcupGokrU4"
   },
   "source": [
    "## Task 6: Create Feature Vectors"
   ]
  },
  {
   "cell_type": "code",
   "execution_count": 16,
   "metadata": {
    "colab": {
     "base_uri": "https://localhost:8080/"
    },
    "executionInfo": {
     "elapsed": 646,
     "status": "ok",
     "timestamp": 1684441501284,
     "user": {
      "displayName": "Mudasir Yasin",
      "userId": "02181408715486485594"
     },
     "user_tz": -300
    },
    "id": "8SqhYlIeRnpX",
    "outputId": "6e25000b-7e97-452e-d133-ada6fd750ef3"
   },
   "outputs": [
    {
     "name": "stdout",
     "output_type": "stream",
     "text": [
      "[[0 0 0 ... 0 0 0]\n",
      " [0 0 0 ... 0 0 0]\n",
      " [0 0 0 ... 0 0 0]\n",
      " ...\n",
      " [0 0 0 ... 1 1 0]\n",
      " [0 0 0 ... 0 0 0]\n",
      " [0 0 0 ... 0 0 1]]\n"
     ]
    }
   ],
   "source": [
    "# Extract tweets and convert to lowercase\n",
    "tweets = [' '.join([word.lower() for word in tweet]) for tweet in df['tweet']]\n",
    "\n",
    "# Create the CountVectorizer with the vocabulary\n",
    "vectorizer = CountVectorizer(vocabulary=vocabulary_dict)\n",
    "\n",
    "# Fit and transform the tweets into feature vectors\n",
    "tweet_vectors = vectorizer.fit_transform(tweets)\n",
    "\n",
    "# Convert tweet_vectors to NumPy array\n",
    "X = tweet_vectors.toarray()\n",
    "\n",
    "# Print the NumPy array\n",
    "print(X)"
   ]
  },
  {
   "cell_type": "markdown",
   "metadata": {
    "id": "lnjklE3-6C7N"
   },
   "source": [
    "## Task 7: Map and Extract the Sentiment Column"
   ]
  },
  {
   "cell_type": "code",
   "execution_count": 17,
   "metadata": {
    "executionInfo": {
     "elapsed": 7,
     "status": "ok",
     "timestamp": 1684441501284,
     "user": {
      "displayName": "Mudasir Yasin",
      "userId": "02181408715486485594"
     },
     "user_tz": -300
    },
    "id": "k5QZH2yMnTsp"
   },
   "outputs": [],
   "source": [
    "mapping = {\n",
    "    'positive' : 2, 'neutral' : 1, 'negative' : 0\n",
    "}\n",
    "df['sentiment'] = df['sentiment'].map(mapping)\n",
    "y = df['sentiment'].values"
   ]
  },
  {
   "cell_type": "markdown",
   "metadata": {
    "id": "exjc7yQ05cyI"
   },
   "source": [
    "## Task 8: Split the Dataset into Training and Test Sets"
   ]
  },
  {
   "cell_type": "code",
   "execution_count": 18,
   "metadata": {
    "colab": {
     "base_uri": "https://localhost:8080/"
    },
    "executionInfo": {
     "elapsed": 7,
     "status": "ok",
     "timestamp": 1684441501285,
     "user": {
      "displayName": "Mudasir Yasin",
      "userId": "02181408715486485594"
     },
     "user_tz": -300
    },
    "id": "hd6bfOQ75gM5",
    "outputId": "a3e0073c-8e4e-4fbd-94ed-913751f418ae"
   },
   "outputs": [],
   "source": [
    "X_train, X_test, y_train, y_test = train_test_split(X, y, test_size=0.2, stratify=y, random_state=42)"
   ]
  },
  {
   "cell_type": "markdown",
   "metadata": {
    "id": "pneAG9N5xuuX"
   },
   "source": [
    "## Task 9: Define the Weights Initialization Function"
   ]
  },
  {
   "cell_type": "code",
   "execution_count": 21,
   "metadata": {
    "executionInfo": {
     "elapsed": 4,
     "status": "ok",
     "timestamp": 1684441501285,
     "user": {
      "displayName": "Mudasir Yasin",
      "userId": "02181408715486485594"
     },
     "user_tz": -300
    },
    "id": "iGPr6BtO3gBi"
   },
   "outputs": [],
   "source": [
    "def initialze_weights(n_features, n_classes):\n",
    "    return np.zeros([n_features, n_classes])\n"
   ]
  },
  {
   "cell_type": "markdown",
   "metadata": {},
   "source": [
    "## Task 10: Define One-Hot Encoding Function"
   ]
  },
  {
   "cell_type": "code",
   "execution_count": 33,
   "metadata": {},
   "outputs": [],
   "source": [
    "def one_hot_encode(y, n_classes):\n",
    "    y_encoded = np.zeros([len(y), n_classes])\n",
    "    for i in range(len(y)):\n",
    "        y_encoded[i, y[i]] = 1\n",
    "    return y_encoded\n",
    "\n"
   ]
  },
  {
   "cell_type": "markdown",
   "metadata": {},
   "source": [
    "## Task 11: Define the Softmax Function"
   ]
  },
  {
   "cell_type": "code",
   "execution_count": 23,
   "metadata": {},
   "outputs": [],
   "source": [
    "def softmax_func(x):\n",
    "    return np.exp(x)/np.sum(np.exp(x), axis = 1, keepdims=True)"
   ]
  },
  {
   "cell_type": "markdown",
   "metadata": {},
   "source": [
    "## Task 12: Define the Gradient Descent Function"
   ]
  },
  {
   "cell_type": "code",
   "execution_count": 40,
   "metadata": {},
   "outputs": [],
   "source": [
    "def grad_descent(X, y_encoded, weights, bias, learning_rate):\n",
    "    scores = np.dot(X, weights) + bias\n",
    "    probabilities = softmax_func(scores)\n",
    "    error = np.abs(probabilities - y_encoded)\n",
    "    dw = np.dot(X.T, error)/len(X)\n",
    "    db = np.sum(error, axis = 0)/len(X)\n",
    "    weights -= learning_rate * dw\n",
    "    bias  -= learning_rate * db\n",
    "    return weights, bias"
   ]
  },
  {
   "cell_type": "markdown",
   "metadata": {},
   "source": [
    "## Task 13: Define the Training Function"
   ]
  },
  {
   "cell_type": "code",
   "execution_count": 38,
   "metadata": {},
   "outputs": [],
   "source": [
    "def train_multinomial_logisitc_regression(X, y, learning_rate, max_iters):\n",
    "    n_samples, n_features = np.shape(X)\n",
    "    n_classes = len(np.unique(y))\n",
    "    \n",
    "    weights = initialze_weights(n_features, n_classes)\n",
    "    bias = np.zeros(n_classes)\n",
    "    y_encoded = one_hot_encode(y, n_classes)\n",
    "    \n",
    "    for i in range(max_iterations):\n",
    "        weights, bias = grad_descent(X, y_encoded, weights, bias, learning_rate)\n",
    "    \n",
    "    return weights, bias"
   ]
  },
  {
   "cell_type": "markdown",
   "metadata": {},
   "source": [
    "## Task 14: Define the Prediction Function"
   ]
  },
  {
   "cell_type": "code",
   "execution_count": 29,
   "metadata": {},
   "outputs": [],
   "source": [
    "def predict(X, weights, bias):\n",
    "    scores = np.dot(X, weights) + bias\n",
    "    probabilities = softmax_func(scores)\n",
    "    return np.argmax(probabilities, axis = 1)"
   ]
  },
  {
   "cell_type": "markdown",
   "metadata": {
    "id": "dAnD-i5u0RXb"
   },
   "source": [
    "## Task 15: Train the Model"
   ]
  },
  {
   "cell_type": "code",
   "execution_count": 41,
   "metadata": {
    "colab": {
     "background_save": true
    },
    "id": "BdYeyN6W3Rvd"
   },
   "outputs": [],
   "source": [
    "learning_rate = 0.31101\n",
    "max_iterations = 100\n",
    "weights, bias = train_multinomial_logisitc_regression(X_train, y_train, learning_rate, max_iters=max_iterations)"
   ]
  },
  {
   "cell_type": "markdown",
   "metadata": {
    "id": "PO4I6kCz0Wpw"
   },
   "source": [
    "## Task 16: Test the Model"
   ]
  },
  {
   "cell_type": "code",
   "execution_count": null,
   "metadata": {
    "colab": {
     "background_save": true
    },
    "id": "-n4fK7I80bRG"
   },
   "outputs": [],
   "source": [
    "y_pred = predict(X_test, weights, bias)\n",
    "print(y_pred)"
   ]
  },
  {
   "cell_type": "markdown",
   "metadata": {
    "id": "-AjfowMRmZwx"
   },
   "source": [
    "## Task 17: Generate the Confusion Matrix and Classification Report"
   ]
  },
  {
   "cell_type": "code",
   "execution_count": null,
   "metadata": {
    "colab": {
     "background_save": true
    },
    "id": "wYAva2Re4YKu"
   },
   "outputs": [],
   "source": [
    "# Generate a confusion matrix\n",
    "cm = confusion_matrix(y_test, y_pred)\n",
    "\n",
    "# Plot the confusion matrix\n",
    "labels = [\"Positive\", \"Negative\", \"Neutral\"]\n",
    "disp = ConfusionMatrixDisplay(confusion_matrix=cm, display_labels=labels)\n",
    "disp.plot()\n",
    "plt.show()\n",
    "\n",
    "## Generate a classification report\n",
    "print(classification_report(y_test, y_pred, target_names=['Positive', 'Negative', 'Neutral']))"
   ]
  }
 ],
 "metadata": {
  "accelerator": "GPU",
  "colab": {
   "gpuType": "T4",
   "provenance": [
    {
     "file_id": "1i5MgXs8N1kzz7cmSf0yUGVFcZKqpopeZ",
     "timestamp": 1684430188484
    },
    {
     "file_id": "1kglHaNMqI8RJ2xs6Ki0CQbuhQw_Hq0_y",
     "timestamp": 1684429013404
    }
   ]
  },
  "gpuClass": "standard",
  "kernelspec": {
   "display_name": "Python 3 (ipykernel)",
   "language": "python",
   "name": "python3"
  },
  "language_info": {
   "codemirror_mode": {
    "name": "ipython",
    "version": 3
   },
   "file_extension": ".py",
   "mimetype": "text/x-python",
   "name": "python",
   "nbconvert_exporter": "python",
   "pygments_lexer": "ipython3",
   "version": "3.8.10"
  },
  "vscode": {
   "interpreter": {
    "hash": "e7370f93d1d0cde622a1f8e1c04877d8463912d04d973331ad4851f04de6915a"
   }
  }
 },
 "nbformat": 4,
 "nbformat_minor": 1
}
